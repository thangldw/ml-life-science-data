{
  "cells": [
    {
      "cell_type": "markdown",
      "metadata": {
        "id": "NVeZ7oo7XLnd"
      },
      "source": [
        "# 第12章　発展編：機械学習を用いたアプタマー配列の解析と創薬\n",
        "\n",
        " - 岩野 夏樹\n",
        " - 浜田 道昭"
      ]
    },
    {
      "cell_type": "markdown",
      "source": [
        "編集部注：2023年5月29日最終更新．コードの一部がお手元の書籍と異なる可能性がございます．正誤・更新情報は弊社ウェブサイトの[本書詳細ページ](https://www.yodosha.co.jp/jikkenigaku/book/9784758122634/index.html)をご参照ください．"
      ],
      "metadata": {
        "id": "RST5tC_NThG_"
      }
    },
    {
      "cell_type": "markdown",
      "metadata": {
        "id": "A8dXaxMtXWDN"
      },
      "source": [
        "##### 入力12-1"
      ]
    },
    {
      "cell_type": "code",
      "execution_count": null,
      "metadata": {
        "id": "_VSE8x0CXe7r"
      },
      "outputs": [],
      "source": [
        "# 依存関係のインストールを行う\n",
        "!python -m pip install git+https://github.com/hmdlab/raptgen.git@v1.0.0\n",
        "!sudo apt-get install fonts-noto-cjk\n",
        "!pip install biopython CairoSVG svgwrite GPy # 更新いたしました\n",
        "!pip install git+https://github.com/SheffieldML/GPyOpt.git # 更新いたしました"
      ]
    },
    {
      "cell_type": "markdown",
      "metadata": {
        "id": "CHzgRHWvXZyh"
      },
      "source": [
        "##### 入力12-2"
      ]
    },
    {
      "cell_type": "code",
      "execution_count": null,
      "metadata": {
        "id": "qDHyZlGVXiJN"
      },
      "outputs": [],
      "source": [
        "# 本ノートブックには重いモデルの学習の処理がある\n",
        "# モデルの学習の処理をスキップして，すでに学習済みのモデルを読み込む場合はskip_heacy_computationをTrueにする\n",
        "# スキップせず，学習を行う場合にはFalseにする\n",
        "skip_heavy_computation = True\n",
        "\n",
        "if skip_heavy_computation:\n",
        "    reload_model = True\n",
        "else:\n",
        "    reload_model = False"
      ]
    },
    {
      "cell_type": "markdown",
      "metadata": {
        "id": "EEdT3APMXZ7b"
      },
      "source": [
        "##### 入力12-3"
      ]
    },
    {
      "cell_type": "code",
      "execution_count": null,
      "metadata": {
        "id": "Ug8AQasqXvEY"
      },
      "outputs": [],
      "source": [
        "# 今回作成したシミュレーションファイルをダウンロードする\n",
        "!wget https://raw.githubusercontent.com/hmdlab/raptgen/v1.0.0/data/simulation/paired/sequences.txt"
      ]
    },
    {
      "cell_type": "markdown",
      "metadata": {
        "id": "0juLsTLHXZ--"
      },
      "source": [
        "##### 入力12-4"
      ]
    },
    {
      "cell_type": "code",
      "execution_count": null,
      "metadata": {
        "id": "5NhCfeFKYOlN"
      },
      "outputs": [],
      "source": [
        "# ダウンロードしたファイルの先頭の10行を表示する\n",
        "# ファイルはモチーフの番号, 配列の形式で保存されている\n",
        "!head sequences.txt"
      ]
    },
    {
      "cell_type": "markdown",
      "metadata": {
        "id": "MyWdlWAuXaBp"
      },
      "source": [
        "##### 入力12-5"
      ]
    },
    {
      "cell_type": "code",
      "execution_count": null,
      "metadata": {
        "id": "LmP72hMqYQ3n"
      },
      "outputs": [],
      "source": [
        "# まずは必要なライブラリをインポートする\n",
        "from Bio import SeqIO\n",
        "from Bio.Seq import Seq\n",
        "from Bio.SeqRecord import SeqRecord\n",
        "from pathlib import Path\n",
        "\n",
        "# シミュレーションで作成したファイルを読み込む\n",
        "with Path(\"sequences.txt\").open() as f:\n",
        "    records = []\n",
        "    for idx, line in enumerate(f.readlines()):\n",
        "        # 行は 1,ATGCATGC のようにモチーフのIDと配列で区切られているので，その部分を処理する\n",
        "        motif_idx, sequence = line.strip().split(\",\")\n",
        "\n",
        "        # SeqIOで出力可能なSeqRecord形式に変換する\n",
        "        record = SeqRecord(\n",
        "            Seq(sequence),\n",
        "            id=f\"{idx}\",\n",
        "            description=f\"motif:{motif_idx} #{idx}\"\n",
        "        )\n",
        "\n",
        "        # リストに追加する\n",
        "        records.append(record)\n",
        "\n",
        "    # 配列をFASTA形式で保存する\n",
        "    SeqIO.write(\n",
        "        sequences = records,\n",
        "        handle = \"sample.fasta\",\n",
        "        format = \"fasta\"\n",
        "    )"
      ]
    },
    {
      "cell_type": "markdown",
      "metadata": {
        "id": "AVWAdnPuXaDx"
      },
      "source": [
        "##### 入力12-6"
      ]
    },
    {
      "cell_type": "code",
      "execution_count": null,
      "metadata": {
        "id": "dBl4NY9rYme5"
      },
      "outputs": [],
      "source": [
        "# 生成したFASTAファイル\n",
        "!head -n 4 sample.fasta"
      ]
    },
    {
      "cell_type": "markdown",
      "metadata": {
        "id": "nLnnbf8eXaF1"
      },
      "source": [
        "##### 入力12-7\n"
      ]
    },
    {
      "cell_type": "code",
      "execution_count": null,
      "metadata": {
        "id": "d1AsrA93YsRv"
      },
      "outputs": [],
      "source": [
        "# FASTA形式のファイルを読み込む\n",
        "from raptgen.data import SingleRound\n",
        "filename = \"sample.fasta\"\n",
        "single_round = SingleRound(path = filename)"
      ]
    },
    {
      "cell_type": "markdown",
      "metadata": {
        "id": "MlZedowRXaJc"
      },
      "source": [
        "##### 入力12-8"
      ]
    },
    {
      "cell_type": "code",
      "execution_count": null,
      "metadata": {
        "id": "OVBeFdEkYu3w"
      },
      "outputs": [],
      "source": [
        "import torch\n",
        "\n",
        "# 以下はGoogle Colaboratory上ではスライドバーで表示される\n",
        "epochs = 200 #@param {type:\"slider\", min:0, max:500, step:5}\n",
        "threshold = 10 #@param {type:\"slider\", min:0, max:100, step:1}\n",
        "device = \"cuda\" #@param [\"cuda\", \"cpu\"]\n",
        "\n",
        "# GPUが使えない場合にはcudaと設定されていてもCPUを使うように設定する\n",
        "if device == \"cuda\" and torch.cuda.is_available() == False:\n",
        "    print(\"cuda is not available. using cpu.\")\n",
        "    device = torch.device(\"cpu\")\n",
        "else:\n",
        "    print(f\"using {device}.\")\n",
        "    device = torch.device(device)\n",
        "\n",
        "min_count = 1 #@param {type:\"slider\", min:0, max:10, step:1}\n",
        "\n",
        "# 学習のために必要なDataLoaderはSingleRoundクラスのget_dataloader関数で取得できる\n",
        "# RaptGenの学習速度は学習配列が短いほど速いので，アダプター部分を切り落としたデータが必要になるが，\n",
        "# この関数はその処理も内部で行っている\n",
        "train_loader, test_loader = single_round.get_dataloader(\n",
        "    min_count=min_count, use_cuda=(device == torch.device(\"cuda\"))\n",
        ")\n",
        "force_epochs = 10 #@param {type:\"slider\", min:0, max:100, step:1}\n",
        "save_dir = \"out/\" #@param {type:\"string\"}\n",
        "save_dir = Path(save_dir).expanduser()\n",
        "save_dir.mkdir(exist_ok = True, parents=True)"
      ]
    },
    {
      "cell_type": "markdown",
      "metadata": {
        "id": "nyftlUh9XaRP"
      },
      "source": [
        "##### 入力12-9"
      ]
    },
    {
      "cell_type": "code",
      "execution_count": null,
      "metadata": {
        "id": "n6ZKHDn1ZEnR"
      },
      "outputs": [],
      "source": [
        "# エンコーダはCNNベース，デコーダは潜在表現をプロファイルHMMの確率分布のパラメータに復元するVAEを利用する\n",
        "from raptgen.models import CNN_PHMM_VAE\n",
        "model = CNN_PHMM_VAE(\n",
        "    motif_len=single_round.random_region_length, # モデルサイズとしてSELEXのランダム領域と同じ大きさを利用する\n",
        "    embed_size=2 # 埋め込みの次元は2次元とする\n",
        ")\n",
        "model = model.to(device)\n",
        "\n",
        "# 学習のためのパラメータの更新にはAdamを利用する\n",
        "from torch import optim\n",
        "optimizer = optim.Adam(model.parameters())\n",
        "\n",
        "# 学習のパラメータを設定する\n",
        "train_kwargs = {\n",
        "    \"epochs\" : epochs,\n",
        "    \"threshold\" : threshold,\n",
        "    \"device\" : device,\n",
        "    \"train_loader\" : train_loader,\n",
        "    \"test_loader\" : test_loader,\n",
        "    \"save_dir\" : save_dir,\n",
        "    \"beta_schedule\" : True,\n",
        "    \"force_matching\" : True,\n",
        "    \"force_epochs\" : force_epochs,\n",
        "    \"model\" : model,\n",
        "    \"optimizer\" : optimizer,\n",
        "    \"model_str\" : \"cnn_phmm_vae.mdl\",\n",
        "}"
      ]
    },
    {
      "cell_type": "markdown",
      "metadata": {
        "id": "DMCfz4IwXaS6"
      },
      "source": [
        "##### 入力12-10"
      ]
    },
    {
      "cell_type": "code",
      "execution_count": null,
      "metadata": {
        "id": "4213llkjZS5h"
      },
      "outputs": [],
      "source": [
        "# 自分のデータなどで学習する場合は下記のコードを実行する\n",
        "# シミュレーションデータではGPUを利用したうえで15分程度の時間が必要となる\n",
        "from raptgen.models import train\n",
        "if not skip_heavy_computation:\n",
        "    train_result = train(**train_kwargs)"
      ]
    },
    {
      "cell_type": "markdown",
      "metadata": {
        "id": "rnnOtoLiXaUx"
      },
      "source": [
        "##### 入力12-11"
      ]
    },
    {
      "cell_type": "code",
      "execution_count": null,
      "metadata": {
        "id": "xcCgjn8dZUEc"
      },
      "outputs": [],
      "source": [
        "# 描画に必要なライブラリをインポートする\n",
        "# ノートブックで見やすくなるように横長での出力をデフォルトとする\n",
        "import matplotlib as mpl\n",
        "mpl.rcParams['figure.figsize'] = [10, 2.5]\n",
        "mpl.rcParams['figure.dpi'] = 100\n",
        "mpl.rcParams['savefig.dpi'] = 150\n",
        "mpl.rcParams['savefig.bbox'] = \"tight\"\n",
        "from matplotlib import pyplot as plt\n",
        "from raptgen.visualization import write_profile_hmm_svg\n",
        "# 再現性のため，学習した結果のモデルを読み込む\n",
        "# 配布時点では自分で学習したモデルを使用するのでFalseに設定してある\n",
        "if reload_model:\n",
        "    model = CNN_PHMM_VAE(\n",
        "        motif_len=single_round.random_region_length,\n",
        "        embed_size=2\n",
        "    )\n",
        "\n",
        "    # 学習済みモデルのパラメータのダウンロード\n",
        "    !wget https://github.com/hmdlab/raptgen/raw/v1.0.0/results/simulation/paired/cnn_phmm_vae.mdl\n",
        "\n",
        "    # モデルのパラメータのロード\n",
        "    model.load_state_dict(torch.load(\"cnn_phmm_vae.mdl\", map_location=device))"
      ]
    },
    {
      "cell_type": "markdown",
      "metadata": {
        "id": "9zmQ0m3UXaWF"
      },
      "source": [
        "##### 入力12-12"
      ]
    },
    {
      "cell_type": "code",
      "execution_count": null,
      "metadata": {
        "id": "ViMt2FNlZjb5"
      },
      "outputs": [],
      "source": [
        "from raptgen.data import Result\n",
        "\n",
        "# 学習結果の可視化のためにResultオブジェクトを作成する\n",
        "result = Result(\n",
        "    model.to(\"cpu\"),\n",
        "    experiment = single_round,\n",
        "    path_to_save_results = save_dir,\n",
        "    load_if_exists = True\n",
        ")\n",
        "\n",
        "# モデルの学習は配列のアダプター部分を切り落とした状態で行っているため，\n",
        "# こちらでもそのアダプターを切り落とした表現を取得する\n",
        "sequences = single_round.get_filter_passed_sequences(\n",
        "    random_only = True\n",
        ")\n",
        "\n",
        "# embed_sequences関数で配列の潜在表現を得る\n",
        "embed_x = result.embed_sequences(sequences)"
      ]
    },
    {
      "cell_type": "markdown",
      "metadata": {
        "id": "KxeoKsgaXaX5"
      },
      "source": [
        "##### 入力12-13"
      ]
    },
    {
      "cell_type": "code",
      "execution_count": null,
      "metadata": {
        "id": "v4_aWudTZqLc"
      },
      "outputs": [],
      "source": [
        "# sequences.txtを開く\n",
        "with Path(\"sequences.txt\").open() as f:\n",
        "    l = []\n",
        "    for line in f.readlines():\n",
        "        motif_idx_str, sequence = line.strip().split(\",\")\n",
        "        l.append(int(motif_idx_str))\n",
        "len(l)"
      ]
    },
    {
      "cell_type": "markdown",
      "metadata": {
        "id": "eCPp-t_QXaZ_"
      },
      "source": [
        "##### 入力12-14"
      ]
    },
    {
      "cell_type": "code",
      "execution_count": null,
      "metadata": {
        "id": "J8p32_9sZweG"
      },
      "outputs": [],
      "source": [
        "# 埋め込みの結果の描画\n",
        "fig, ax = plt.subplots()\n",
        "# embed_xは[5000,2]のtorch.Tensorなので，これを2つの5000次元のベクトルに変換する.\n",
        "x1, x2 = embed_x.T.detach().numpy()\n",
        "# 凡例の表示用のラベル\n",
        "labels = [\n",
        "    \"ACTAC(N*)CCCTC\",\n",
        "    \"ACTAC(N*)\",\n",
        "    \"(N*)CCCTC\"\n",
        "]\n",
        "for i in range(3):\n",
        "    # モチーフの番号に応じた系列の取り出し\n",
        "    _x = [x for x, motif_id in zip(x1, l) if motif_id == i]\n",
        "    _y = [x for x, motif_id in zip(x2, l) if motif_id == i]\n",
        "    # 散布図で表示\n",
        "    ax.scatter(\n",
        "        _x,\n",
        "        _y,\n",
        "        label = labels[i]\n",
        "    )\n",
        "plt.xlabel(\"latent axis 1\")\n",
        "plt.ylabel(\"latent axis 2\")\n",
        "plt.legend()\n",
        "plt.show()\n"
      ]
    },
    {
      "cell_type": "markdown",
      "metadata": {
        "id": "H5fXmCYxXabz"
      },
      "source": [
        "##### 入力12-15"
      ]
    },
    {
      "cell_type": "code",
      "execution_count": null,
      "metadata": {
        "id": "TAbHNMcKaCz-"
      },
      "outputs": [],
      "source": [
        "# 潜在空間における特定の点のプロファイルHMMのモデルパラメータをSVGとして書き出す\n",
        "# 今回は可視化のため，中心の配列を取り出して，そのパラメータを書き出す\n",
        "\n",
        "# (x, y) = (0, 0)のデータを作成する\n",
        "# 入力データの次元は (データ数, 軸数) なので，1×2のベクトルを作成する\n",
        "x = torch.Tensor([[0, 0]])\n",
        "\n",
        "# プロファイルHMMのパラメータをデコーダで返す\n",
        "(a, e_m) = model.decoder(x)\n",
        "\n",
        "# 0番目のデータを取り出して，torch.Tensor形式をnumpy.Array形式にする\n",
        "a = a[0].detach().numpy()\n",
        "e_m = e_m[0].detach().numpy()\n",
        "\n",
        "# 可視化はa:遷移確率とe_m:出力確率とする\n",
        "# svgで出力されるが，ノートブックに表示するためpngでも出力する\n",
        "write_profile_hmm_svg(a, e_m, savepng=True)\n",
        "\n",
        "# ノートブック内で表示\n",
        "from PIL import Image\n",
        "Image.open(\"profile_HMM.png\")"
      ]
    },
    {
      "cell_type": "markdown",
      "metadata": {
        "id": "sPgWGPXvXae0"
      },
      "source": [
        "##### 入力12-6"
      ]
    },
    {
      "cell_type": "code",
      "execution_count": null,
      "metadata": {
        "id": "DJ9NxEslaLPk"
      },
      "outputs": [],
      "source": [
        "from raptgen.visualization import draw_most_probable\n",
        "\n",
        "# 最も確率の高い状態列の場合のシークエンスロゴの描画.^で表されているのがInsertion\n",
        "draw_most_probable(a, e_m, force=True)"
      ]
    },
    {
      "cell_type": "markdown",
      "metadata": {
        "id": "jxmqOasVXah4"
      },
      "source": [
        "##### 入力12-17\n"
      ]
    },
    {
      "cell_type": "code",
      "execution_count": null,
      "metadata": {
        "id": "--iAC50TaOUN"
      },
      "outputs": [],
      "source": [
        "from raptgen.data import ProfileHMMSampler\n",
        "sampler = ProfileHMMSampler(a, e_m, proba_is_log = True)"
      ]
    },
    {
      "cell_type": "markdown",
      "metadata": {
        "id": "R3R3qheUXakq"
      },
      "source": [
        "##### 入力12-18"
      ]
    },
    {
      "cell_type": "code",
      "execution_count": null,
      "metadata": {
        "id": "JVxnucCGaQNu"
      },
      "outputs": [],
      "source": [
        "sampler.sample(sequence_only = True)"
      ]
    },
    {
      "cell_type": "markdown",
      "metadata": {
        "id": "_mHLMIJzXani"
      },
      "source": [
        "##### 入力12-19"
      ]
    },
    {
      "cell_type": "code",
      "execution_count": null,
      "metadata": {
        "id": "Rh1G138xaUKe"
      },
      "outputs": [],
      "source": [
        "!wget https://raw.githubusercontent.com/hmdlab/raptgen/v1.0.0/data/real/A_4R.fastq\n",
        "!wget https://raw.githubusercontent.com/hmdlab/raptgen/v1.0.0/results/real/A_best.mdl\n",
        "!wget https://raw.githubusercontent.com/hmdlab/raptgen/v1.0.0/results/real/A_evaled.csv"
      ]
    },
    {
      "cell_type": "markdown",
      "metadata": {
        "id": "54op6RqrXaqT"
      },
      "source": [
        "##### 入力12-20"
      ]
    },
    {
      "cell_type": "code",
      "execution_count": null,
      "metadata": {
        "id": "wwMyNKMiaXee"
      },
      "outputs": [],
      "source": [
        "# 実際のモデルとデータを利用する\n",
        "experiment = SingleRound(path = \"A_4R.fastq\")\n",
        "model = CNN_PHMM_VAE(experiment.random_region_length, embed_size=2)\n",
        "model.load_state_dict(torch.load(\"A_best.mdl\", map_location=device))\n",
        "result = Result(\n",
        "    model,\n",
        "    experiment=experiment,\n",
        "    path_to_save_results=save_dir,\n",
        "    load_if_exists=True\n",
        ")"
      ]
    },
    {
      "cell_type": "markdown",
      "metadata": {
        "id": "MtFTYLxhXas1"
      },
      "source": [
        "##### 入力12-21"
      ]
    },
    {
      "cell_type": "code",
      "execution_count": null,
      "metadata": {
        "id": "QQYefwXLadSP"
      },
      "outputs": [],
      "source": [
        "import pandas as pd\n",
        "df = pd.read_csv(\"A_evaled.csv\", names=[\"seq\", \"activity\"])\n",
        "seq, act = df.values.T\n",
        "\n",
        "result.evaluated_X = result.embed_sequences(seq)\n",
        "\n",
        "# 最小化問題を解くため，スコアを正負逆転した値を用いる\n",
        "# また，評価済みの配列の値は形状が[N, 1]となっている必要があるため，軸を増やす\n",
        "result.evaluated_y = -act[:, None]\n",
        "\n",
        "# すでに検査済みの配列の潜在表現と値を利用して，次に調査すべき潜在表現の位置を出力する\n",
        "locations = result.get_bo_result(force_rerun=True)\n",
        "locations"
      ]
    },
    {
      "cell_type": "markdown",
      "metadata": {
        "id": "dxAdB4n0Xavn"
      },
      "source": [
        "##### 入力12-22"
      ]
    },
    {
      "cell_type": "code",
      "execution_count": null,
      "metadata": {
        "id": "aTpYOVK6akE4"
      },
      "outputs": [],
      "source": [
        "# 潜在空間上でベイズ最適化を行った状態の表示\n",
        "# 等高線は推定された配列のスコアを表す\n",
        "fig, ax = plt.subplots(figsize=(6,6))\n",
        "result.plot_bo(ax, fig)\n",
        "ax.set_xlabel(\"latent axis 1\")\n",
        "ax.set_ylabel(\"latent axis 2\")\n",
        "ax.legend()\n",
        "plt.show()"
      ]
    },
    {
      "cell_type": "markdown",
      "metadata": {
        "id": "b-swpe8OXayJ"
      },
      "source": [
        "##### 入力12-23"
      ]
    },
    {
      "cell_type": "code",
      "execution_count": null,
      "metadata": {
        "id": "PH4XesmbaqG8"
      },
      "outputs": [],
      "source": [
        "# 配列はmodel.decoderでプロファイルHMMのパラメータからサンプリングしてもよいが，\n",
        "# Resultクラスの関数で取得することができる\n",
        "scores = result._points_to_score(torch.from_numpy(locations).float())\n",
        "\n",
        "# scoreは配列のモチーフ，そこからサンプルされたモチーフ，その配列の対数確率，となる\n",
        "df = pd.DataFrame(scores, columns = [\"sequence_motif\", \"sampled_sequence\", \"log_ probability\"])\n",
        "\n",
        "# 推論結果の配列を表示する\n",
        "df"
      ]
    },
    {
      "cell_type": "markdown",
      "metadata": {
        "id": "h7T2ZRjnXa1R"
      },
      "source": [
        "##### 入力12-24"
      ]
    },
    {
      "cell_type": "code",
      "execution_count": null,
      "metadata": {
        "id": "HJbTSYF8au5h"
      },
      "outputs": [],
      "source": [
        "# モチーフの長さを短くしたモデルを用意する\n",
        "model_short = CNN_PHMM_VAE(\n",
        "    motif_len=15, # 本来ランダム領域は20塩基だが，ここではモチーフの長さを15としている\n",
        "    embed_size=2\n",
        ")\n",
        "model_short = model_short.to(device)\n",
        "optimizer_short = optim.Adam(model_short.parameters())\n",
        "\n",
        "# 学習のパラメータはモデルとoptimizerを除き同様である\n",
        "train_kwargs = {\n",
        "      \"epochs\" : epochs,\n",
        "      \"threshold\" : threshold,\n",
        "      \"device\" : device,\n",
        "      \"train_loader\" : train_loader,\n",
        "      \"test_loader\" : test_loader,\n",
        "      \"save_dir\" : save_dir,\n",
        "      \"beta_schedule\" : True,\n",
        "      \"force_matching\" : True,\n",
        "      \"force_epochs\" : force_epochs,\n",
        "      \"model\" : model_short, # 変更した\n",
        "      \"optimizer\" : optimizer_short,\n",
        "      \"model_str\" : \"cnn_phmm_vae.mdl\",\n",
        "}"
      ]
    },
    {
      "cell_type": "markdown",
      "metadata": {
        "id": "VsmSMOOpXa4X"
      },
      "source": [
        "##### 入力12-25"
      ]
    },
    {
      "cell_type": "code",
      "execution_count": null,
      "metadata": {
        "id": "lHmVcz0Ca5Og"
      },
      "outputs": [],
      "source": [
        "from raptgen.models import train\n",
        "train_result = train(**train_kwargs)"
      ]
    },
    {
      "cell_type": "markdown",
      "metadata": {
        "id": "RqlhuDpzXa65"
      },
      "source": [
        "##### 入力12-26"
      ]
    },
    {
      "cell_type": "code",
      "execution_count": null,
      "metadata": {
        "id": "9YsFx0F0a7va"
      },
      "outputs": [],
      "source": [
        "# 潜在空間における特定の点のプロファイルHMMのモデルパラメータをSVGとして書き出す\n",
        "# 今回は可視化のため，中心の配列を取り出して，そのパラメータを書き出す\n",
        "\n",
        "# (x, y) = (0, 0)のデータを作成する\n",
        "# 入力データの次元は(データ数, 軸数)なので，1×2のベクトルを作成する\n",
        "x = torch.Tensor([[-1, 0]])\n",
        "\n",
        "# プロファイルHMMのパラメータをデコーダで返す\n",
        "(a, e_m) = model_short.to(\"cpu\").decoder(x)\n",
        "\n",
        "# 0番目のデータを取り出して，torch.Tensor形式をnumpy.Array形式にする\n",
        "a = a[0].detach().numpy()\n",
        "e_m = e_m[0].detach().numpy()\n",
        "\n",
        "# 埋め込みの結果の描画\n",
        "fig, ax = plt.subplots()\n",
        "\n",
        "result_short = Result(\n",
        "    model_short.to(\"cpu\"),\n",
        "    experiment = single_round,\n",
        "    path_to_save_results = save_dir,\n",
        "    load_if_exists = True\n",
        ")\n",
        "\n",
        "embed_x = result_short.embed_sequences(sequences)\n",
        "x1, x2 = embed_x.T.detach().numpy()\n",
        "\n",
        "# 散布図を表示\n",
        "ax.scatter(\n",
        "    x1,\n",
        "    x2,\n",
        "    c = l,\n",
        "    cmap = \"tab20c\"\n",
        ")\n",
        "\n",
        "plt.show()"
      ]
    },
    {
      "cell_type": "markdown",
      "metadata": {
        "id": "cFMDIsSUa3xC"
      },
      "source": [
        "##### 入力12-27"
      ]
    },
    {
      "cell_type": "code",
      "execution_count": null,
      "metadata": {
        "id": "oJ00C3rSbMex"
      },
      "outputs": [],
      "source": [
        "# 可視化はa:遷移確率とe_m:出力確率とする\n",
        "# svgで出力されるが，ノートブックに表示するためpngでも出力する\n",
        "write_profile_hmm_svg(a, e_m, savepng=True, name=\"profile_HMM_short.svg\")\n",
        "\n",
        "# ノートブック内で表示\n",
        "# 短鎖化されたモデルになっていることがわかる\n",
        "Image.open(\"profile_HMM_short.png\")"
      ]
    }
  ],
  "metadata": {
    "colab": {
      "provenance": []
    },
    "kernelspec": {
      "display_name": "Python 3",
      "name": "python3"
    },
    "language_info": {
      "name": "python"
    }
  },
  "nbformat": 4,
  "nbformat_minor": 0
}