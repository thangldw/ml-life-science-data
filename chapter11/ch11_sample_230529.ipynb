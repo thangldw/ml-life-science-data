{
  "cells": [
    {
      "cell_type": "markdown",
      "metadata": {
        "id": "Bpeahy6ghN8h"
      },
      "source": [
        "# 第11章　実践編6：AI創薬へのはじめの一歩\n",
        "- 清水 秀幸"
      ]
    },
    {
      "cell_type": "markdown",
      "source": [
        "編集部注：2023年5月29日最終更新．コードの一部がお手元の書籍と異なる可能性がございます．正誤・更新情報は弊社ウェブサイトの[本書詳細ページ](https://www.yodosha.co.jp/jikkenigaku/book/9784758122634/index.html)をご参照ください．"
      ],
      "metadata": {
        "id": "Mm9_FQUjYIDH"
      }
    },
    {
      "cell_type": "markdown",
      "metadata": {
        "id": "SGR2rMaEh-Af"
      },
      "source": [
        "##### 入力11-1"
      ]
    },
    {
      "cell_type": "code",
      "execution_count": null,
      "metadata": {
        "id": "lnjvnE8YiFDt"
      },
      "outputs": [],
      "source": [
        "%matplotlib inline\n",
        "import numpy as np\n",
        "import pandas as pd\n",
        "import matplotlib\n",
        "import matplotlib.pyplot as plt"
      ]
    },
    {
      "cell_type": "markdown",
      "metadata": {
        "id": "eWq7rdfFiBu2"
      },
      "source": [
        "##### 入力11-2"
      ]
    },
    {
      "cell_type": "code",
      "execution_count": null,
      "metadata": {
        "id": "Y7I_Xq3LiGsP"
      },
      "outputs": [],
      "source": [
        "!pip install rdkit"
      ]
    },
    {
      "cell_type": "markdown",
      "metadata": {
        "id": "D2azEXU7iBxq"
      },
      "source": [
        "##### 入力11-3"
      ]
    },
    {
      "cell_type": "code",
      "execution_count": null,
      "metadata": {
        "id": "kt6UjIPbxsZm"
      },
      "outputs": [],
      "source": [
        "import rdkit\n",
        "print(rdkit.__version__)"
      ]
    },
    {
      "cell_type": "markdown",
      "metadata": {
        "id": "i1VhWA0CiB0f"
      },
      "source": [
        "##### 入力11-4◆→1刷11-5←◆"
      ]
    },
    {
      "cell_type": "code",
      "execution_count": null,
      "metadata": {
        "id": "zQ3olWtPxvnx"
      },
      "outputs": [],
      "source": [
        "!wget https://raw.githubusercontent.com/dataprofessor/data/master/delaney.csv"
      ]
    },
    {
      "cell_type": "markdown",
      "metadata": {
        "id": "ly9TYbzhiB3V"
      },
      "source": [
        "##### 入力11-5◆→1刷11-6←◆"
      ]
    },
    {
      "cell_type": "code",
      "execution_count": null,
      "metadata": {
        "id": "gzPzt2xzx2FZ"
      },
      "outputs": [],
      "source": [
        "sol = pd.read_csv('delaney.csv')\n",
        "sol"
      ]
    },
    {
      "cell_type": "markdown",
      "metadata": {
        "id": "IAm6MnemiB52"
      },
      "source": [
        "##### 入力11-6"
      ]
    },
    {
      "cell_type": "code",
      "execution_count": null,
      "metadata": {
        "id": "zRX1GjpazKQ0"
      },
      "outputs": [],
      "source": [
        "sol['SMILES']"
      ]
    },
    {
      "cell_type": "markdown",
      "metadata": {
        "id": "6xOoltysiCBq"
      },
      "source": [
        "##### 入力11-7"
      ]
    },
    {
      "cell_type": "code",
      "execution_count": null,
      "metadata": {
        "id": "iRyp1AAJzg3w"
      },
      "outputs": [],
      "source": [
        "# データの最初にある化合物のSMILES表記\n",
        "sol['SMILES'][0]"
      ]
    },
    {
      "cell_type": "markdown",
      "metadata": {
        "id": "mw9Twg6Gzlou"
      },
      "source": [
        "##### 入力11-8"
      ]
    },
    {
      "cell_type": "code",
      "execution_count": null,
      "metadata": {
        "id": "m7p5WpT_zqhP"
      },
      "outputs": [],
      "source": [
        "from rdkit import Chem\n",
        "m = Chem.MolFromSmiles(sol['SMILES'][0])\n",
        "m # 生成された化合物オブジェクト"
      ]
    },
    {
      "cell_type": "markdown",
      "metadata": {
        "id": "cH5ZQzC9zhOu"
      },
      "source": [
        "##### 入力11-9"
      ]
    },
    {
      "cell_type": "code",
      "execution_count": null,
      "metadata": {
        "id": "4KYIYLZwCLLf"
      },
      "outputs": [],
      "source": [
        "m.GetNumAtoms()"
      ]
    },
    {
      "cell_type": "markdown",
      "metadata": {
        "id": "8pSrHxOPiCDa"
      },
      "source": [
        "##### 入力11-10"
      ]
    },
    {
      "cell_type": "code",
      "execution_count": null,
      "metadata": {
        "id": "vs-S5sseCdXO"
      },
      "outputs": [],
      "source": [
        "mol_list = [Chem.MolFromSmiles(element) for element in sol['SMILES']]\n",
        "len(mol_list)"
      ]
    },
    {
      "cell_type": "markdown",
      "metadata": {
        "id": "a-PY32fdCfH4"
      },
      "source": [
        "##### 入力11-11"
      ]
    },
    {
      "cell_type": "code",
      "execution_count": null,
      "metadata": {
        "id": "FtnDhdQCChf2"
      },
      "outputs": [],
      "source": [
        "from rdkit.Chem import Descriptors\n",
        "\n",
        "def calculate_three_descriptors(smiles, verbose=False):\n",
        "\n",
        "    moldata= []\n",
        "    for elem in smiles:\n",
        "        mol=Chem.MolFromSmiles(elem)\n",
        "        moldata.append(mol)\n",
        "\n",
        "    baseData= np.arange(1,1)\n",
        "    i=0\n",
        "    for mol in moldata:\n",
        "    \n",
        "        desc_MolLogP = Descriptors.MolLogP(mol)\n",
        "        desc_MolWt = Descriptors.MolWt(mol)\n",
        "        desc_NumRotatableBonds = Descriptors.NumRotatableBonds(mol)\n",
        "    \n",
        "        row = np.array([desc_MolLogP,\n",
        "                        desc_MolWt,\n",
        "                        desc_NumRotatableBonds])\n",
        "        \n",
        "        if(i==0):\n",
        "            baseData=row\n",
        "        else:\n",
        "            baseData=np.vstack([baseData, row])\n",
        "        i=i+1\n",
        "\n",
        "    columnNames=[\"MolLogP\",\"MolWt\",\"NumRotatableBonds\"]\n",
        "    descriptors = pd.DataFrame(data=baseData,columns=columnNames)\n",
        "    \n",
        "    return descriptors"
      ]
    },
    {
      "cell_type": "markdown",
      "metadata": {
        "id": "KPojuiihiCE_"
      },
      "source": [
        "##### 入力11-12"
      ]
    },
    {
      "cell_type": "code",
      "execution_count": null,
      "metadata": {
        "id": "WH6Yy2AADAPx"
      },
      "outputs": [],
      "source": [
        "df = calculate_three_descriptors(sol['SMILES'])\n",
        "df"
      ]
    },
    {
      "cell_type": "markdown",
      "metadata": {
        "id": "6Tp6m0ujDAkf"
      },
      "source": [
        "##### 入力11-13"
      ]
    },
    {
      "cell_type": "code",
      "execution_count": null,
      "metadata": {
        "id": "Fqyt9rIMDDL_"
      },
      "outputs": [],
      "source": [
        "m = Chem.MolFromSmiles('CNC(=O)Oc1cc(C)cc(C)c1')\n",
        "\n",
        "aromatic_atoms = [m.GetAtomWithIdx(i).GetIsAromatic() for i in range(m.GetNumAtoms())]\n",
        "aromatic_atoms"
      ]
    },
    {
      "cell_type": "markdown",
      "metadata": {
        "id": "R2LZDSgRiCGh"
      },
      "source": [
        "##### 入力11-14"
      ]
    },
    {
      "cell_type": "code",
      "execution_count": null,
      "metadata": {
        "id": "nq0GLQHhDJ17"
      },
      "outputs": [],
      "source": [
        "def AromaticAtoms(m):\n",
        "    aromatic_atoms = [m.GetAtomWithIdx(i).GetIsAromatic() for i in range(m.GetNumAtoms())]\n",
        "    aa_count = []\n",
        "    for i in aromatic_atoms:\n",
        "        if i==True:\n",
        "            aa_count.append(1)\n",
        "    sum_aa_count = sum(aa_count)\n",
        "    return sum_aa_count\n",
        "\n",
        "\n",
        "AromaticAtoms(m)"
      ]
    },
    {
      "cell_type": "markdown",
      "metadata": {
        "id": "kZRQm3iBiCIO"
      },
      "source": [
        "##### 入力11-15"
      ]
    },
    {
      "cell_type": "code",
      "execution_count": null,
      "metadata": {
        "id": "ZjCfZkjgDRkQ"
      },
      "outputs": [],
      "source": [
        "desc_AromaticAtoms = [AromaticAtoms(element) for element in mol_list]\n",
        "desc_AromaticAtoms"
      ]
    },
    {
      "cell_type": "markdown",
      "metadata": {
        "id": "CiYPEd4FiCKI"
      },
      "source": [
        "##### 入力11-16"
      ]
    },
    {
      "cell_type": "code",
      "execution_count": null,
      "metadata": {
        "id": "TmouKv_zDVIz"
      },
      "outputs": [],
      "source": [
        "m = Chem.MolFromSmiles('CNC(=O)Oc1cc(C)cc(C)c1')\n",
        "AromaticAtoms(m)/Descriptors.HeavyAtomCount(m)"
      ]
    },
    {
      "cell_type": "markdown",
      "metadata": {
        "id": "JkitL8v2iCMn"
      },
      "source": [
        "##### 入力11-17"
      ]
    },
    {
      "cell_type": "code",
      "execution_count": null,
      "metadata": {
        "id": "pFXBB7qIDl-A"
      },
      "outputs": [],
      "source": [
        "desc_AromaticProportion = [AromaticAtoms(element)/Descriptors.HeavyAtomCount(element) for element in mol_list]\n",
        "df_desc_AromaticProportion = pd.DataFrame(desc_AromaticProportion, columns=['AromaticProportion'])\n",
        "df_desc_AromaticProportion"
      ]
    },
    {
      "cell_type": "markdown",
      "metadata": {
        "id": "v8WG9IfniCNi"
      },
      "source": [
        "##### 入力11-18"
      ]
    },
    {
      "cell_type": "code",
      "execution_count": null,
      "metadata": {
        "id": "Pq7Jo_b7DrFC"
      },
      "outputs": [],
      "source": [
        "X = pd.concat([df, df_desc_AromaticProportion], axis=1)\n",
        "X"
      ]
    },
    {
      "cell_type": "markdown",
      "metadata": {
        "id": "qM1c_CX_iCPV"
      },
      "source": [
        "##### 入力11-19"
      ]
    },
    {
      "cell_type": "code",
      "execution_count": null,
      "metadata": {
        "id": "wvkc0443DtRy"
      },
      "outputs": [],
      "source": [
        "y = sol.iloc[:,1]\n",
        "y = y.rename('logS')\n",
        "y"
      ]
    },
    {
      "cell_type": "markdown",
      "metadata": {
        "id": "yT-MbRN9iCQO"
      },
      "source": [
        "##### 入力11-20"
      ]
    },
    {
      "cell_type": "code",
      "execution_count": null,
      "metadata": {
        "id": "SStmqVsqDvsq"
      },
      "outputs": [],
      "source": [
        "y.hist()"
      ]
    },
    {
      "cell_type": "markdown",
      "metadata": {
        "id": "2OyUcsMWiCSY"
      },
      "source": [
        "##### 入力11-21"
      ]
    },
    {
      "cell_type": "code",
      "execution_count": null,
      "metadata": {
        "id": "FgYzs0hXD148"
      },
      "outputs": [],
      "source": [
        "from sklearn.model_selection import train_test_split\n",
        "\n",
        "X_train, X_test, y_train, y_test = train_test_split(X, y, test_size=0.2)"
      ]
    },
    {
      "cell_type": "markdown",
      "metadata": {
        "id": "RtMIQmRriCUG"
      },
      "source": [
        "##### 入力11-22"
      ]
    },
    {
      "cell_type": "code",
      "execution_count": null,
      "metadata": {
        "id": "M53TAdraD3jc"
      },
      "outputs": [],
      "source": [
        "from sklearn import linear_model\n",
        "from sklearn.metrics import mean_squared_error, r2_score\n",
        "\n",
        "model = linear_model.LinearRegression()\n",
        "model.fit(X_train, y_train)"
      ]
    },
    {
      "cell_type": "markdown",
      "metadata": {
        "id": "MMU5EDtPiCVX"
      },
      "source": [
        "##### 入力11-23"
      ]
    },
    {
      "cell_type": "code",
      "execution_count": null,
      "metadata": {
        "id": "aFtM0ZXKEH1M"
      },
      "outputs": [],
      "source": [
        "y_pred_train = model.predict(X_train)\n",
        "\n",
        "print('Coefficients:', model.coef_)\n",
        "print('Intercept:', model.intercept_)\n",
        "print('Mean squared error (MSE): %.2f'\n",
        "        % mean_squared_error(y_train, y_pred_train))\n",
        "print('Coefficient of determination (R^2): %.2f'\n",
        "        % r2_score(y_train, y_pred_train))"
      ]
    },
    {
      "cell_type": "markdown",
      "metadata": {
        "id": "YPBsG9LpiCWb"
      },
      "source": [
        "##### 入力11-24"
      ]
    },
    {
      "cell_type": "code",
      "execution_count": null,
      "metadata": {
        "id": "2R8r6tCSEQBr"
      },
      "outputs": [],
      "source": [
        "y_pred_test = model.predict(X_test)\n",
        "\n",
        "print('Coefficients:', model.coef_)\n",
        "print('Intercept:', model.intercept_)\n",
        "print('Mean squared error (MSE): %.2f'\n",
        "        % mean_squared_error(y_test, y_pred_test))\n",
        "print('Coefficient of determination (R^2): %.2f'\n",
        "        % r2_score(y_test, y_pred_test))"
      ]
    },
    {
      "cell_type": "markdown",
      "metadata": {
        "id": "vnPY_He1iCud"
      },
      "source": [
        "##### 入力11-25"
      ]
    },
    {
      "cell_type": "code",
      "execution_count": null,
      "metadata": {
        "id": "DoCUU95aEZh0"
      },
      "outputs": [],
      "source": [
        "yintercept = '%.2f' % model.intercept_\n",
        "LogP = '%.2f LogP' % model.coef_[0]\n",
        "MW = '%.4f MW' % model.coef_[1]\n",
        "RB = '%.4f RB' % model.coef_[2]\n",
        "AP = '%.2f AP' % model.coef_[3]\n",
        "\n",
        "print('LogS = ' +\n",
        "      ' '+\n",
        "      yintercept +\n",
        "      ' '+\n",
        "      LogP +\n",
        "      ' '+\n",
        "      MW +\n",
        "      ' '+\n",
        "      RB +\n",
        "      ' '+\n",
        "      AP)"
      ]
    },
    {
      "cell_type": "markdown",
      "metadata": {
        "id": "3L5k-lT1iCxh"
      },
      "source": [
        "##### 入力11-26"
      ]
    },
    {
      "cell_type": "code",
      "execution_count": null,
      "metadata": {
        "id": "JgiC_5jrEtm-"
      },
      "outputs": [],
      "source": [
        "## 左側が訓練データに関する実測logSと予測logS\n",
        "plt.figure(figsize=(11,5))\n",
        "\n",
        "plt.subplot(1, 2, 1)\n",
        "plt.scatter(x=y_train, y=y_pred_train, c=\"#7CAE00\", alpha=0.3)\n",
        "\n",
        "z = np.polyfit(y_train, y_pred_train, 1)\n",
        "p = np.poly1d(z)\n",
        "plt.plot(y_test,p(y_test),\"#F8766D\")\n",
        "\n",
        "plt.ylabel('Predicted LogS')\n",
        "plt.xlabel('Experimental LogS')\n",
        "\n",
        "\n",
        "## 右側がテストデータに関する実測logSと予測logS\n",
        "plt.subplot(1, 2, 2)\n",
        "plt.scatter(x=y_test, y=y_pred_test, c=\"#619CFF\", alpha=0.3)\n",
        "\n",
        "z = np.polyfit(y_test, y_pred_test, 1)\n",
        "p = np.poly1d(z)\n",
        "plt.plot(y_test,p(y_test),\"#F8766D\")\n",
        "\n",
        "plt.xlabel('Experimental LogS')\n",
        "\n",
        "plt.show()"
      ]
    },
    {
      "cell_type": "markdown",
      "metadata": {
        "id": "7fL-UJZZiC0a"
      },
      "source": [
        "##### 入力11-27"
      ]
    },
    {
      "cell_type": "code",
      "execution_count": null,
      "metadata": {
        "id": "rcq6TZMME69F"
      },
      "outputs": [],
      "source": [
        "!wget https://raw.githubusercontent.com/rdkit/rdkit/master/Docs/Book/data/solubility.train.sdf\n",
        "!wget https://raw.githubusercontent.com/rdkit/rdkit/master/Docs/Book/data/solubility.test.sdf"
      ]
    },
    {
      "cell_type": "markdown",
      "metadata": {
        "id": "1baVsQyqiC2o"
      },
      "source": [
        "##### 入力11-28"
      ]
    },
    {
      "cell_type": "code",
      "execution_count": null,
      "metadata": {
        "id": "IBGXWPyoE-fH"
      },
      "outputs": [],
      "source": [
        "!ls"
      ]
    },
    {
      "cell_type": "markdown",
      "metadata": {
        "id": "dbaBU3lZiC5i"
      },
      "source": [
        "##### 入力11-29"
      ]
    },
    {
      "cell_type": "code",
      "execution_count": null,
      "metadata": {
        "id": "_m77APgbFEZ3"
      },
      "outputs": [],
      "source": [
        "!head -n 40 solubility.train.sdf"
      ]
    },
    {
      "cell_type": "markdown",
      "metadata": {
        "id": "kmm6r5zFFBLr"
      },
      "source": [
        "##### 入力11-30"
      ]
    },
    {
      "cell_type": "code",
      "execution_count": null,
      "metadata": {
        "id": "4Mk8S_yiFGm4"
      },
      "outputs": [],
      "source": [
        "train = [ mol for mol in Chem.SDMolSupplier('solubility.train.sdf')]\n",
        "test = [ mol for mol in Chem.SDMolSupplier('solubility.test.sdf')]\n",
        "\n",
        "print('training: ', len(train))\n",
        "print('test: ', len(test))"
      ]
    },
    {
      "cell_type": "markdown",
      "metadata": {
        "id": "6TKWORPlFBOr"
      },
      "source": [
        "##### 入力11-31"
      ]
    },
    {
      "cell_type": "code",
      "execution_count": null,
      "metadata": {
        "id": "hcTho3hgFKXu"
      },
      "outputs": [],
      "source": [
        "train[0].GetPropsAsDict()[\"SOL\"]"
      ]
    },
    {
      "cell_type": "markdown",
      "metadata": {
        "id": "8YkC2XffFBRe"
      },
      "source": [
        "##### 入力11-32"
      ]
    },
    {
      "cell_type": "code",
      "execution_count": null,
      "metadata": {
        "id": "-RiBhn7SFM1x"
      },
      "outputs": [],
      "source": [
        "train[0].GetPropsAsDict()[\"smiles\"]"
      ]
    },
    {
      "cell_type": "markdown",
      "metadata": {
        "id": "vDlTPFZpFBUA"
      },
      "source": [
        "##### 入力11-33"
      ]
    },
    {
      "cell_type": "code",
      "execution_count": null,
      "metadata": {
        "id": "MDHF2IXiFQID"
      },
      "outputs": [],
      "source": [
        "from rdkit.ML.Descriptors import MoleculeDescriptors\n",
        "\n",
        "descs = [desc_name[0] for desc_name in Descriptors._descList]\n",
        "descs"
      ]
    },
    {
      "cell_type": "markdown",
      "metadata": {
        "id": "47LDLQL2FBWb"
      },
      "source": [
        "##### 入力11-34"
      ]
    },
    {
      "cell_type": "code",
      "execution_count": null,
      "metadata": {
        "id": "SD4giKlFFTbA"
      },
      "outputs": [],
      "source": [
        "len(descs)"
      ]
    },
    {
      "cell_type": "markdown",
      "metadata": {
        "id": "U2AypsGBFBYv"
      },
      "source": [
        "##### 入力11-35"
      ]
    },
    {
      "cell_type": "code",
      "execution_count": null,
      "metadata": {
        "id": "yJe8VykgFWbB"
      },
      "outputs": [],
      "source": [
        "desc_calc = MoleculeDescriptors.MolecularDescriptorCalculator(descs)"
      ]
    },
    {
      "cell_type": "markdown",
      "metadata": {
        "id": "7JU-fq4wFBa2"
      },
      "source": [
        "##### 入力11-36"
      ]
    },
    {
      "cell_type": "code",
      "execution_count": null,
      "metadata": {
        "id": "h-HtTimfFZSR"
      },
      "outputs": [],
      "source": [
        "X = [desc_calc.CalcDescriptors(mol) for mol in train]\n",
        "y = [mol.GetPropsAsDict()[\"SOL\"] for mol in train]\n",
        "\n",
        "test_X = [desc_calc.CalcDescriptors(mol) for mol in test]\n",
        "test_y = [mol.GetPropsAsDict()[\"SOL\"] for mol in test]"
      ]
    },
    {
      "cell_type": "markdown",
      "metadata": {
        "id": "kADgKGP2FBdc"
      },
      "source": [
        "##### 入力11-37"
      ]
    },
    {
      "cell_type": "code",
      "execution_count": null,
      "metadata": {
        "id": "M8KmnMSLFcIJ"
      },
      "outputs": [],
      "source": [
        "len(X)"
      ]
    },
    {
      "cell_type": "markdown",
      "metadata": {
        "id": "hH9rzicRFBgX"
      },
      "source": [
        "##### 入力11-38"
      ]
    },
    {
      "cell_type": "code",
      "execution_count": null,
      "metadata": {
        "id": "803rh0-aFfzy"
      },
      "outputs": [],
      "source": [
        "X[0]"
      ]
    },
    {
      "cell_type": "markdown",
      "metadata": {
        "id": "43OqTNqeFBiL"
      },
      "source": [
        "##### 入力11-39"
      ]
    },
    {
      "cell_type": "code",
      "execution_count": null,
      "metadata": {
        "id": "EdPgu-0LFj45"
      },
      "outputs": [],
      "source": [
        "y[:5]"
      ]
    },
    {
      "cell_type": "markdown",
      "metadata": {
        "id": "mpOPSAOQFBkx"
      },
      "source": [
        "##### 入力11-40"
      ]
    },
    {
      "cell_type": "code",
      "execution_count": null,
      "metadata": {
        "id": "65yVCNDxFnTx"
      },
      "outputs": [],
      "source": [
        "from sklearn.model_selection import train_test_split\n",
        "(train_X, test_X, train_y, test_y) = train_test_split(X, y, test_size=0.2)"
      ]
    },
    {
      "cell_type": "markdown",
      "metadata": {
        "id": "C-njBQy5FBnU"
      },
      "source": [
        "##### 入力11-41"
      ]
    },
    {
      "cell_type": "code",
      "execution_count": null,
      "metadata": {
        "id": "f8gxMmGXFqOM"
      },
      "outputs": [],
      "source": [
        "import lightgbm as lgb"
      ]
    },
    {
      "cell_type": "markdown",
      "metadata": {
        "id": "lVejp6gBFBp7"
      },
      "source": [
        "##### 入力11-42"
      ]
    },
    {
      "cell_type": "code",
      "execution_count": null,
      "metadata": {
        "id": "TFxRF5fqFtKO"
      },
      "outputs": [],
      "source": [
        "lgb_train = lgb.Dataset(train_X,\n",
        "                        label=train_y,\n",
        "                        free_raw_data=False)\n",
        "lgb_test = lgb.Dataset(test_X,\n",
        "                       label=test_y,\n",
        "                       free_raw_data=False)"
      ]
    },
    {
      "cell_type": "markdown",
      "metadata": {
        "id": "IoLwuFkVFBsh"
      },
      "source": [
        "##### 入力11-43"
      ]
    },
    {
      "cell_type": "code",
      "execution_count": null,
      "metadata": {
        "id": "x4EKx8BGF3vv"
      },
      "outputs": [],
      "source": [
        " params = {'num_leaves': 31,\n",
        "                  'min_data_in_leaf': 30,\n",
        "                  'objective':'regression',\n",
        "                  'max_depth': -1,\n",
        "                  'learning_rate': 0.01,\n",
        "                  \"min_child_samples\": 20,\n",
        "                  \"boosting\": \"gbdt\",\n",
        "                  \"feature_fraction\": 0.9,\n",
        "                  \"bagging_freq\": 1,\n",
        "                  \"bagging_fraction\": 0.9 ,\n",
        "                  \"bagging_seed\": 11,\n",
        "                  \"metric\": 'rmse',\n",
        "                  \"lambda_l1\": 0.1,\n",
        "                  \"verbosity\": -1,\n",
        "                  \"nthread\": 4,\n",
        "                  \"random_state\": 0}"
      ]
    },
    {
      "cell_type": "markdown",
      "metadata": {
        "id": "L6H3BqUBFBu4"
      },
      "source": [
        "##### 入力11-44"
      ]
    },
    {
      "cell_type": "code",
      "execution_count": null,
      "metadata": {
        "id": "PbIKZNzsF_ty"
      },
      "outputs": [],
      "source": [
        "reg = lgb.train(\n",
        "                      params,\n",
        "                      lgb_train,\n",
        "                      valid_sets=[lgb_train, lgb_test],\n",
        "                      valid_names=['train', 'test'],\n",
        "                      num_boost_round=1000,\n",
        "                      verbose_eval=100\n",
        ")"
      ]
    },
    {
      "cell_type": "markdown",
      "metadata": {
        "id": "5vP3oW1IFBxp"
      },
      "source": [
        "##### 入力11-45"
      ]
    },
    {
      "cell_type": "code",
      "execution_count": null,
      "metadata": {
        "id": "xOBQiL9bGKcx"
      },
      "outputs": [],
      "source": [
        "plt.figure()\n",
        "plt.scatter(train_y, reg.predict(train_X, num_iteration=reg.best_iteration), label = 'Train', c = 'blue')\n",
        "plt.title('lightgbm Predictor')\n",
        "plt.xlabel('Measured Solubility')\n",
        "plt.ylabel('Predicted Solubility')\n",
        "plt.scatter(test_y, reg.predict(test_X, num_iteration=reg.best_iteration), c = 'lightgreen', label = 'Test', alpha = 0.8)\n",
        "plt.legend(loc = 4)\n",
        "plt.show()"
      ]
    },
    {
      "cell_type": "markdown",
      "metadata": {
        "id": "0i4gYa6DGI36"
      },
      "source": [
        "##### 入力11-46"
      ]
    },
    {
      "cell_type": "code",
      "execution_count": null,
      "metadata": {
        "id": "O0-nD3WKGRWN"
      },
      "outputs": [],
      "source": [
        "!pip install dgl dgllife"
      ]
    },
    {
      "cell_type": "markdown",
      "metadata": {
        "id": "x1nFYfx4GI-P"
      },
      "source": [
        "##### 入力11-47"
      ]
    },
    {
      "cell_type": "code",
      "execution_count": null,
      "metadata": {
        "id": "9Lx1TjulGUyF"
      },
      "outputs": [],
      "source": [
        "## 訓練データの読み込みとデータフレーム化\n",
        "X = [mol.GetPropsAsDict()[\"smiles\"] for mol in train]\n",
        "y = [mol.GetPropsAsDict()[\"SOL_classification\"] for mol in train]\n",
        "\n",
        "df = pd.DataFrame({'SMILES': X, 'classification': y})\n",
        "df"
      ]
    },
    {
      "cell_type": "markdown",
      "metadata": {
        "id": "ojJgobE1GJAp"
      },
      "source": [
        "##### 入力11-48"
      ]
    },
    {
      "cell_type": "code",
      "execution_count": null,
      "metadata": {
        "id": "akrnZGg-Gatu"
      },
      "outputs": [],
      "source": [
        "set(df['classification'])"
      ]
    },
    {
      "cell_type": "markdown",
      "metadata": {
        "id": "tAf9R-ixGJDQ"
      },
      "source": [
        "##### 入力11-49"
      ]
    },
    {
      "cell_type": "code",
      "execution_count": null,
      "metadata": {
        "id": "Mmza9mqkGca7"
      },
      "outputs": [],
      "source": [
        "import torch\n",
        "from torch import nn\n",
        "import torch.nn.functional as F\n",
        "from torch.utils.data import DataLoader\n",
        "from torch.utils.data import Dataset\n",
        "from torch.nn import CrossEntropyLoss"
      ]
    },
    {
      "cell_type": "markdown",
      "metadata": {
        "id": "ycu2cR3KGJFz"
      },
      "source": [
        "##### 入力11-50"
      ]
    },
    {
      "cell_type": "code",
      "execution_count": null,
      "metadata": {
        "id": "zduzM5l1GfQk"
      },
      "outputs": [],
      "source": [
        "import dgl\n",
        "from dgl.data import DGLDataset"
      ]
    },
    {
      "cell_type": "markdown",
      "metadata": {
        "id": "JLpsZzXlGJIY"
      },
      "source": [
        "##### 入力11-51"
      ]
    },
    {
      "cell_type": "code",
      "execution_count": null,
      "metadata": {
        "id": "OR1Rk1R_Gkl1"
      },
      "outputs": [],
      "source": [
        "from dgllife.utils import mol_to_graph\n",
        "from dgllife.utils import mol_to_complete_graph\n",
        "from dgllife.utils.featurizers import CanonicalAtomFeaturizer\n",
        "from dgllife.utils.featurizers import CanonicalBondFeaturizer"
      ]
    },
    {
      "cell_type": "markdown",
      "metadata": {
        "id": "Qpf5AhpcGJK7"
      },
      "source": [
        "##### 入力11-52"
      ]
    },
    {
      "cell_type": "code",
      "execution_count": null,
      "metadata": {
        "id": "EpBNlhEIGmt4"
      },
      "outputs": [],
      "source": [
        "atom_featurizer = CanonicalAtomFeaturizer()\n",
        "bond_featurizer = CanonicalBondFeaturizer()"
      ]
    },
    {
      "cell_type": "markdown",
      "metadata": {
        "id": "YnSzednyGJNK"
      },
      "source": [
        "##### 入力11-53"
      ]
    },
    {
      "cell_type": "code",
      "execution_count": null,
      "metadata": {
        "id": "fTapE1sxGoZe"
      },
      "outputs": [],
      "source": [
        "g = mol_to_complete_graph(train[0],\n",
        "                          add_self_loop=False,\n",
        "                          node_featurizer=atom_featurizer,\n",
        "                          #edge_featurizer= bond_featurizer\n",
        "                          )\n",
        "\n",
        "n_feats = atom_featurizer.feat_size('h')\n",
        "print(n_feats)"
      ]
    },
    {
      "cell_type": "markdown",
      "metadata": {
        "id": "U2-Mdq3YGJPm"
      },
      "source": [
        "##### 入力11-54\n"
      ]
    },
    {
      "cell_type": "code",
      "execution_count": null,
      "metadata": {
        "id": "z8rQeAWJGwbw"
      },
      "outputs": [],
      "source": [
        "g"
      ]
    },
    {
      "cell_type": "markdown",
      "metadata": {
        "id": "2INEsqy5GJU_"
      },
      "source": [
        "##### 入力11-55"
      ]
    },
    {
      "cell_type": "code",
      "execution_count": null,
      "metadata": {
        "id": "ttVc9sjIGzZf"
      },
      "outputs": [],
      "source": [
        "train[0].GetPropsAsDict()[\"smiles\"]"
      ]
    },
    {
      "cell_type": "code",
      "execution_count": null,
      "metadata": {
        "id": "4zUYl36GG03c"
      },
      "outputs": [],
      "source": []
    },
    {
      "cell_type": "markdown",
      "metadata": {
        "id": "RRie4DekGJYR"
      },
      "source": [
        "##### 入力11-56"
      ]
    },
    {
      "cell_type": "code",
      "execution_count": null,
      "metadata": {
        "id": "XBvtNBA_G4ZW"
      },
      "outputs": [],
      "source": [
        "train_g = [mol_to_complete_graph(m, node_featurizer=atom_featurizer) for m in train]\n",
        "test_g = [mol_to_complete_graph(m, node_featurizer=atom_featurizer) for m in test]"
      ]
    },
    {
      "cell_type": "markdown",
      "metadata": {
        "id": "97ZyH8yyGJbI"
      },
      "source": [
        "##### 入力11-57"
      ]
    },
    {
      "cell_type": "code",
      "execution_count": null,
      "metadata": {
        "id": "wmc2hAreG71l"
      },
      "outputs": [],
      "source": [
        "prop_dict = {\n",
        "\"(A) low\": 0,\n",
        "\"(B) medium\": 1,\n",
        "\"(C) high\": 2\n",
        "}\n",
        "train_y = np.array([prop_dict[m.GetProp('SOL_classification')] for m in train])\n",
        "train_y = np.array(train_y, dtype=np.int64)\n",
        "test_y = np.array([prop_dict[m.GetProp('SOL_classification')] for m in test])\n",
        "test_y = np.array(test_y, dtype=np.int64)\n",
        "train_y"
      ]
    },
    {
      "cell_type": "markdown",
      "metadata": {
        "id": "FWPGDmF6GJea"
      },
      "source": [
        "##### 入力11-58"
      ]
    },
    {
      "cell_type": "code",
      "execution_count": null,
      "metadata": {
        "id": "20K8xuKSG9Vk"
      },
      "outputs": [],
      "source": [
        "from dgllife.model import GCNPredictor"
      ]
    },
    {
      "cell_type": "markdown",
      "metadata": {
        "id": "hbmrXaQvGJg9"
      },
      "source": [
        "##### 入力11-59"
      ]
    },
    {
      "cell_type": "code",
      "execution_count": null,
      "metadata": {
        "id": "g47syD_kHAg_"
      },
      "outputs": [],
      "source": [
        "ncls = 3\n",
        "\n",
        "gcn_net = GCNPredictor(in_feats=n_feats,\n",
        "                       hidden_feats=[60,20],\n",
        "                       n_tasks=ncls,\n",
        "                       predictor_hidden_feats=10,\n",
        "                       dropout=[0.1,0.1])"
      ]
    },
    {
      "cell_type": "markdown",
      "metadata": {
        "id": "LYihu_jcGJjs"
      },
      "source": [
        "##### 入力11-60"
      ]
    },
    {
      "cell_type": "code",
      "execution_count": null,
      "metadata": {
        "id": "R3k-AQVfHHKA"
      },
      "outputs": [],
      "source": [
        "def collate(sample):\n",
        "    graphs, labels = map(list,zip(*sample))\n",
        "    batched_graph = dgl.batch(graphs)\n",
        "    batched_graph.set_n_initializer(dgl.init.zero_initializer)\n",
        "    batched_graph.set_e_initializer(dgl.init.zero_initializer)\n",
        "    return batched_graph, torch.tensor(labels)"
      ]
    },
    {
      "cell_type": "markdown",
      "metadata": {
        "id": "HayHAotYGJni"
      },
      "source": [
        "##### 入力11-61"
      ]
    },
    {
      "cell_type": "code",
      "execution_count": null,
      "metadata": {
        "id": "A0s7WHwMHLIp"
      },
      "outputs": [],
      "source": [
        "train_data = list(zip(train_g, train_y))\n",
        "train_loader = DataLoader(train_data, batch_size=128, shuffle=True, collate_fn=collate, drop_last=True)"
      ]
    },
    {
      "cell_type": "markdown",
      "metadata": {
        "id": "PpyA5NldHjTX"
      },
      "source": [
        "##### 入力11-62"
      ]
    },
    {
      "cell_type": "code",
      "execution_count": null,
      "metadata": {
        "id": "KPUBUMA4Hlz6"
      },
      "outputs": [],
      "source": [
        "loss_fn = CrossEntropyLoss()\n",
        "optimizer = torch.optim.Adam(gcn_net.parameters(), lr=0.001)\n",
        "gcn_net.train()"
      ]
    },
    {
      "cell_type": "markdown",
      "metadata": {
        "id": "5xQIiHSlHjeY"
      },
      "source": [
        "##### 入力11-63"
      ]
    },
    {
      "cell_type": "code",
      "execution_count": null,
      "metadata": {
        "id": "ZZz6-a3QHqSq"
      },
      "outputs": [],
      "source": [
        "epoch_losses = []\n",
        "epoch_accuracies = []\n",
        "for epoch in range(1,201):\n",
        "    epoch_loss = 0\n",
        "    epoch_acc = 0\n",
        "    for i, (bg, labels) in enumerate(train_loader):\n",
        "        atom_feats = bg.ndata.pop('h')\n",
        "        pred = gcn_net(bg, atom_feats)\n",
        "        loss = loss_fn(pred, labels)\n",
        "        optimizer.zero_grad()\n",
        "        loss.backward()\n",
        "        optimizer.step()\n",
        "        epoch_loss += loss.detach().item()\n",
        "        pred_cls = pred.argmax(-1).detach().numpy()\n",
        "        true_label = labels.numpy()\n",
        "        epoch_acc += sum(true_label==pred_cls) / true_label.shape[0]\n",
        "    epoch_acc /= (i + 1)\n",
        "    epoch_loss /= (i + 1)\n",
        "    if epoch % 20 == 0:\n",
        "        print(f\"epoch: {epoch}, Loss: {epoch_loss:.3f}, ACC: {epoch_acc:.3f}\")\n",
        "    epoch_accuracies.append(epoch_acc)\n",
        "    epoch_losses.append(epoch_loss)"
      ]
    },
    {
      "cell_type": "markdown",
      "metadata": {
        "id": "UglqrQDSHjhO"
      },
      "source": [
        "##### 入力11-64"
      ]
    },
    {
      "cell_type": "code",
      "execution_count": null,
      "metadata": {
        "id": "0vgqWKuBH01f"
      },
      "outputs": [],
      "source": [
        "plt.style.use('ggplot')\n",
        "plt.plot([i for i in range(1, 201)], epoch_losses, c='b', alpha=0.6, label='loss')\n",
        "plt.legend()\n",
        "plt.plot([i for i in range(1, 201)], epoch_accuracies, c='r', alpha=0.6, label='acc')\n",
        "plt.legend()\n",
        "plt.xlabel('epoch')\n",
        "plt.ylabel('loss/acc')\n",
        "print('損失を青で，正解率を赤で表示')"
      ]
    },
    {
      "cell_type": "markdown",
      "metadata": {
        "id": "omZk2pFTHjkQ"
      },
      "source": [
        "##### 入力11-65"
      ]
    },
    {
      "cell_type": "code",
      "execution_count": null,
      "metadata": {
        "id": "pcL-BKwiH2Mk"
      },
      "outputs": [],
      "source": [
        "test_data = list(zip(test_g, test_y))\n",
        "test_loader = DataLoader(test_data, batch_size=128, collate_fn=collate, drop_last=True)"
      ]
    },
    {
      "cell_type": "markdown",
      "metadata": {
        "id": "PLBAzPe2Hjmf"
      },
      "source": [
        "##### 入力11-66"
      ]
    },
    {
      "cell_type": "code",
      "execution_count": null,
      "metadata": {
        "id": "Isk4LPBqH6vq"
      },
      "outputs": [],
      "source": [
        "gcn_net.eval()\n",
        "\n",
        "correct = 0\n",
        "total = 0\n",
        "\n",
        "with torch.no_grad():\n",
        "    for x, y in test_loader:\n",
        "        atom_feats = x.ndata.pop('h')\n",
        "        pred = gcn_net(x, atom_feats)\n",
        "        _, predicted = torch.max(pred.data, 1)\n",
        "        total += y.size(0)\n",
        "        correct += (predicted == y).sum().item()\n",
        "print('正解率', int(correct)/total*100)"
      ]
    },
    {
      "cell_type": "markdown",
      "metadata": {
        "id": "wYTgbbyqHjo3"
      },
      "source": [
        "##### 入力11-67"
      ]
    },
    {
      "cell_type": "code",
      "execution_count": null,
      "metadata": {
        "id": "q7UPAHVeIBRa"
      },
      "outputs": [],
      "source": [
        "from sklearn.metrics import confusion_matrix\n",
        "\n",
        "true_list = []\n",
        "pred_list = []\n",
        "\n",
        "with torch.no_grad():\n",
        "    for x, y in test_loader:\n",
        "        atom_feats = x.ndata.pop('h')\n",
        "        pred = gcn_net(x, atom_feats)\n",
        "        _, predicted = torch.max(pred.data, 1)\n",
        "        pred_list += predicted.detach().numpy().tolist()\n",
        "        true_list += y.detach().numpy().tolist()\n",
        "\n",
        "cm = confusion_matrix(true_list, pred_list)\n",
        "print(cm)"
      ]
    },
    {
      "cell_type": "markdown",
      "metadata": {
        "id": "3SKMF9oPHjrS"
      },
      "source": [
        "##### 入力11-68"
      ]
    },
    {
      "cell_type": "code",
      "execution_count": null,
      "metadata": {
        "id": "HRp0t8zUIMAs"
      },
      "outputs": [],
      "source": [
        "import seaborn as sns\n",
        "\n",
        "cm = pd.DataFrame(data=cm, index=prop_dict.keys(),\n",
        "                  columns=prop_dict.keys())\n",
        "\n",
        "sns.set(rc = {'figure.figsize':(10,6)})\n",
        "sns.heatmap(cm, square=True, cbar=True, annot=True, cmap='Blues', fmt='d')\n",
        "plt.yticks(rotation=0)\n",
        "plt.xlabel(\"Prediction\", fontsize=13, rotation=0)\n",
        "plt.ylabel(\"Ground Truth\", fontsize=13)\n",
        "\n",
        "print('溶解度予測モデルのテストデータにおける混同行列')"
      ]
    },
    {
      "cell_type": "markdown",
      "metadata": {
        "id": "7vT2c6qyHjtr"
      },
      "source": [
        "##### 入力11-69"
      ]
    },
    {
      "cell_type": "code",
      "execution_count": null,
      "metadata": {
        "id": "ZS9eHnaCIQaq"
      },
      "outputs": [],
      "source": [
        "!pip install chembl_webresource_client"
      ]
    },
    {
      "cell_type": "markdown",
      "metadata": {
        "id": "sQG6UDmKHjwd"
      },
      "source": [
        "##### 入力11-70"
      ]
    },
    {
      "cell_type": "code",
      "execution_count": null,
      "metadata": {
        "id": "KR8od_10ITyF"
      },
      "outputs": [],
      "source": [
        "from chembl_webresource_client.new_client import new_client\n",
        "\n",
        "target = new_client.target\n",
        "target_query = target.search('coronavirus')\n",
        "targets = pd.DataFrame.from_dict(target_query)\n",
        "targets"
      ]
    },
    {
      "cell_type": "markdown",
      "metadata": {
        "id": "wZ8yRcU-HjzB"
      },
      "source": [
        "##### 入力11-71"
      ]
    },
    {
      "cell_type": "code",
      "execution_count": null,
      "metadata": {
        "id": "oW8Di8cUIZOn"
      },
      "outputs": [],
      "source": [
        "selected_target = targets.target_chembl_id[4]\n",
        "selected_target"
      ]
    },
    {
      "cell_type": "markdown",
      "metadata": {
        "id": "5JqrrHihHj1i"
      },
      "source": [
        "##### 入力11-72"
      ]
    },
    {
      "cell_type": "code",
      "execution_count": null,
      "metadata": {
        "id": "kqRI6QuwIfWY"
      },
      "outputs": [],
      "source": [
        "activity = new_client.activity\n",
        "res = activity.filter(target_chembl_id=selected_target).filter(standard_type='IC50')\n",
        "\n",
        "res"
      ]
    },
    {
      "cell_type": "markdown",
      "metadata": {
        "id": "wlUHZR7AHj4G"
      },
      "source": [
        "##### 入力11-73"
      ]
    },
    {
      "cell_type": "code",
      "execution_count": null,
      "metadata": {
        "id": "4B9IaD5QIjKG"
      },
      "outputs": [],
      "source": [
        "df = pd.DataFrame.from_dict(res)\n",
        "df"
      ]
    },
    {
      "cell_type": "markdown",
      "metadata": {
        "id": "mvG_k6vNId7O"
      },
      "source": [
        "##### 入力11-74"
      ]
    },
    {
      "cell_type": "code",
      "execution_count": null,
      "metadata": {
        "id": "cFSB7XtKIlPk"
      },
      "outputs": [],
      "source": [
        "df.iloc[:,30:34]"
      ]
    },
    {
      "cell_type": "markdown",
      "metadata": {
        "id": "TCC7GFJyIeJ9"
      },
      "source": [
        "##### 入力11-75"
      ]
    },
    {
      "cell_type": "code",
      "execution_count": null,
      "metadata": {
        "id": "nLqjLY9nIoGt"
      },
      "outputs": [],
      "source": [
        "selection = ['molecule_chembl_id', 'canonical_smiles', 'standard_value']\n",
        "df2 = df[selection]\n",
        "df2"
      ]
    },
    {
      "cell_type": "markdown",
      "metadata": {
        "id": "zjrtNHuRIeNA"
      },
      "source": [
        "##### 入力11-76"
      ]
    },
    {
      "cell_type": "code",
      "execution_count": null,
      "metadata": {
        "id": "fssknIefIrhF"
      },
      "outputs": [],
      "source": [
        "df3 = df2[df2['standard_value'].notna()]\n",
        "df3"
      ]
    },
    {
      "cell_type": "markdown",
      "metadata": {
        "id": "FGsgEXz-IePt"
      },
      "source": [
        "##### 入力11-77"
      ]
    },
    {
      "cell_type": "code",
      "execution_count": null,
      "metadata": {
        "id": "EXCBgtEwIubF"
      },
      "outputs": [],
      "source": [
        "def norm_value(input_df):\n",
        "    norm = []\n",
        "\n",
        "    for i in input_df['standard_value']:\n",
        "        i = float(i)\n",
        "        if i > 1000000000:\n",
        "            i = 1000000000\n",
        "        norm.append(i)\n",
        "\n",
        "    input_df['standard_value_norm'] = norm\n",
        "\n",
        "    return input_df\n",
        "\n",
        "    \n",
        "df_norm = norm_value(df3)\n",
        "df_norm"
      ]
    },
    {
      "cell_type": "markdown",
      "metadata": {
        "id": "JI59fQ5NIeSZ"
      },
      "source": [
        "##### 入力11-78"
      ]
    },
    {
      "cell_type": "code",
      "execution_count": null,
      "metadata": {
        "id": "qmbURM3WI94-"
      },
      "outputs": [],
      "source": [
        "def pIC50(input_df):\n",
        "    pIC50 = []\n",
        "    for i in input_df['standard_value_norm']:\n",
        "        molar = i*(10**-9) # nM から M単位へ変換\n",
        "        pIC50.append(-np.log10(molar))\n",
        "\n",
        "    input_df['pIC50'] = pIC50\n",
        "\n",
        "    return input_df\n",
        "\n",
        "df_final = pIC50(df_norm)\n",
        "df_final"
      ]
    },
    {
      "cell_type": "markdown",
      "metadata": {
        "id": "RB-PuLyMIeVj"
      },
      "source": [
        "##### 入力11-79"
      ]
    },
    {
      "cell_type": "code",
      "execution_count": null,
      "metadata": {
        "id": "9GaDa8IUJO9f"
      },
      "outputs": [],
      "source": [
        "df_final['pIC50'].describe()"
      ]
    },
    {
      "cell_type": "markdown",
      "metadata": {
        "id": "yQVSx9bAJKE9"
      },
      "source": [
        "##### 入力11-80"
      ]
    },
    {
      "cell_type": "code",
      "execution_count": null,
      "metadata": {
        "id": "rgA9kyRqJQFg"
      },
      "outputs": [],
      "source": [
        "df_final['canonical_smiles']"
      ]
    },
    {
      "cell_type": "markdown",
      "metadata": {
        "id": "iPXWYbChJKKJ"
      },
      "source": [
        "##### 入力11-81\n"
      ]
    },
    {
      "cell_type": "code",
      "execution_count": null,
      "metadata": {
        "id": "KsiTyq_RJTOH"
      },
      "outputs": [],
      "source": [
        "X = []\n",
        "for _ in df_final['canonical_smiles']:\n",
        "    mol = Chem.MolFromSmiles(_)\n",
        "    X.append(desc_calc.CalcDescriptors(mol))"
      ]
    },
    {
      "cell_type": "markdown",
      "metadata": {
        "id": "sAo6CRdUJKM0"
      },
      "source": [
        "##### 入力11-82"
      ]
    },
    {
      "cell_type": "code",
      "execution_count": null,
      "metadata": {
        "id": "ooc2n7OZJYzw"
      },
      "outputs": [],
      "source": [
        "X = pd.DataFrame(np.array(X).reshape(-1, 208))\n",
        "X"
      ]
    },
    {
      "cell_type": "markdown",
      "metadata": {
        "id": "1ACBCxp8JKPs"
      },
      "source": [
        "##### 入力11-83"
      ]
    },
    {
      "cell_type": "code",
      "execution_count": null,
      "metadata": {
        "id": "DhUCzhJLJbsh"
      },
      "outputs": [],
      "source": [
        "y = df_final['pIC50']\n",
        "y"
      ]
    },
    {
      "cell_type": "markdown",
      "metadata": {
        "id": "K88afDldJKSu"
      },
      "source": [
        "##### 入力11-84"
      ]
    },
    {
      "cell_type": "code",
      "execution_count": null,
      "metadata": {
        "id": "I-CesqZGJewD"
      },
      "outputs": [],
      "source": [
        "X_train, X_test, y_train, y_test = train_test_split(X, y, test_size=0.2, random_state=0)"
      ]
    },
    {
      "cell_type": "markdown",
      "metadata": {
        "id": "4PIuPvvPIeYJ"
      },
      "source": [
        "##### 入力11-85"
      ]
    },
    {
      "cell_type": "code",
      "execution_count": null,
      "metadata": {
        "id": "rtZ4eGsQJinI"
      },
      "outputs": [],
      "source": [
        "X_train.shape, y_train.shape\n"
      ]
    },
    {
      "cell_type": "markdown",
      "metadata": {
        "id": "u8Gs_m-iJg2d"
      },
      "source": [
        "##### 入力11-86"
      ]
    },
    {
      "cell_type": "code",
      "execution_count": null,
      "metadata": {
        "id": "y90erXzVJl95"
      },
      "outputs": [],
      "source": [
        "X_test.shape, y_test.shape"
      ]
    },
    {
      "cell_type": "markdown",
      "metadata": {
        "id": "JJgpAPqDJg-I"
      },
      "source": [
        "##### 入力11-87"
      ]
    },
    {
      "cell_type": "code",
      "execution_count": null,
      "metadata": {
        "id": "iw4-YeFZJrBx"
      },
      "outputs": [],
      "source": [
        "# PLS回帰を行うメソッドをインポート\n",
        "from sklearn.cross_decomposition import PLSRegression\n",
        "\n",
        "# 回帰器の生成: n_componentsのデフォルトは2なのでPLSRegression()のみでも可\n",
        "pls = PLSRegression(n_components=2)\n",
        "\n",
        "# 学習\n",
        "pls.fit(X_train, y_train)"
      ]
    },
    {
      "cell_type": "markdown",
      "metadata": {
        "id": "SIRZ0iCpJhBY"
      },
      "source": [
        "##### 入力11-88\n"
      ]
    },
    {
      "cell_type": "code",
      "execution_count": null,
      "metadata": {
        "id": "rT_S7dOVJtN6"
      },
      "outputs": [],
      "source": [
        "# テストデータを使った予測\n",
        "y_pred = pls.predict(X_test)\n",
        "y_pred"
      ]
    },
    {
      "cell_type": "markdown",
      "metadata": {
        "id": "fr57uEDlJhD7"
      },
      "source": [
        "##### 入力11-90"
      ]
    },
    {
      "cell_type": "code",
      "execution_count": null,
      "metadata": {
        "id": "PrRJD-TiJ1cw"
      },
      "outputs": [],
      "source": [
        "from scipy.stats import spearmanr\n",
        "\n",
        "# 予測と実測のスピアマン相関係数を算出\n",
        "correlation, pvalue = spearmanr(y_pred, y_test)\n",
        "print(correlation)"
      ]
    },
    {
      "cell_type": "markdown",
      "metadata": {
        "id": "4Dz1L9z-JhGY"
      },
      "source": [
        "##### 入力11-91"
      ]
    },
    {
      "cell_type": "code",
      "execution_count": null,
      "metadata": {
        "id": "nQ-2gpsJJ3Ty"
      },
      "outputs": [],
      "source": [
        "import seaborn as sns\n",
        "\n",
        "ax = sns.regplot(y_test, y_pred)\n",
        "ax.set_xlabel('Experimental pIC50', fontsize='large', fontweight='bold')\n",
        "ax.set_ylabel('Predicted pIC50', fontsize='large', fontweight='bold')\n",
        "ax.set_xlim(0, 8)\n",
        "ax.set_ylim(0, 8)\n",
        "ax.figure.set_size_inches(5, 5)\n",
        "plt.show"
      ]
    }
  ],
  "metadata": {
    "colab": {
      "provenance": []
    },
    "kernelspec": {
      "display_name": "Python 3",
      "language": "python",
      "name": "python3"
    },
    "language_info": {
      "name": "python",
      "version": "3.11.1"
    },
    "vscode": {
      "interpreter": {
        "hash": "1a1af0ee75eeea9e2e1ee996c87e7a2b11a0bebd85af04bb136d915cefc0abce"
      }
    }
  },
  "nbformat": 4,
  "nbformat_minor": 0
}